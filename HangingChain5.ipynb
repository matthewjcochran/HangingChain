{
 "cells": [
  {
   "cell_type": "code",
   "execution_count": 46,
   "metadata": {
    "collapsed": true
   },
   "outputs": [],
   "source": [
    "import numpy as np\n",
    "import matplotlib.pyplot as plt\n",
    "from scipy.optimize import minimize\n",
    "gravity = 9.8"
   ]
  },
  {
   "cell_type": "markdown",
   "metadata": {
    "collapsed": false
   },
   "source": [
    "<h3>Problem</h3>\n",
    "\n",
    "<p>Our goal is to find the shape of a hanging chain. To do this, we assume a chain is made of many masses connected by strings. Typically, one assumes that the chain is made of identical masses and strings and that the only external force is gravity. This yeilds the catenary. The approach we take below is more general. It adds symmetry to the calculations and code and allows us to consider more interesting situations.</p>"
   ]
  },
  {
   "cell_type": "markdown",
   "metadata": {},
   "source": [
    "<h3>Notation</h3>\n",
    "\n",
    "<p>A chain is made by connecting $N$ masses with $N + 1$ strings. Let $i$ range from $1$ to $N$ and $j$ range from $0$ to $N$. Mass $i$ has position $(x_i, y_i)$ and an external force $(f_i, g_i)$ acting on it. String $j$ has end positions $(x_j, y_j)$ and $(x_{j+1}, y_{j+1})$, length $\\ell_j$, and tension $T_j$. The chain has fixed end positions $(x_0, y_0)$ and $(x_{N+1}, y_{N+1})$.</p>\n",
    "\n",
    "<p>To sumarize, this problem has given variables $(f_i, g_i)$, $\\ell_j$, $(x_0, y_0)$, and $(x_{N+1}, y_{N+1})$. Our goal is to find the unknow variables $(x_i, y_i)$ and $T_j$.</p>"
   ]
  },
  {
   "cell_type": "markdown",
   "metadata": {},
   "source": [
    "<h3>Calculations</h3>\n",
    "\n",
    "<p>We treat this as an optimization problem where we are trying to minimumize the potential energy of the chain subject to string length constraints. We use the Lagrange multiplier method were the multipliers are labeled $T_j$. Our goal is to minimumize $U(x_i, y_i, T_j)$.</p>\n",
    "\n",
    "$$ U = - \\sum_{i=1}^N(f_i x_i + g_i y_i) \n",
    "  + \\sum_{j=0}^N \\frac{T_j}{2 \\ell_j} \\left[(x_{j+1} - x_j)^2 + (y_{j+1} - y_j)^2 - \\ell_j^2 \\right] $$\n",
    "\n",
    "<p>To minimumize $U$, we find its gradient. We divide this gradient into parts and label the parts. (See appendix A for calculation details.)</p>\n",
    "\n",
    "\\begin{align*}\n",
    "F_i &= - \\frac{\\partial U}{\\partial x_i}\n",
    "     = f_i + \\frac{T_i}{\\ell_j} (x_{i+1} - x_i) - \\frac{T_{i-1}}{\\ell_{j-1}} (x_i - x_{i-1}) \\\\   \n",
    "G_i &= - \\frac{\\partial U}{\\partial y_i}\n",
    "     = g_i + \\frac{T_i}{\\ell_j} (y_{i+1} - y_i) - \\frac{T_{i-1}}{\\ell_{j-1}} (y_i - y_{i-1}) \\\\\n",
    "H_j &= - \\frac{\\partial U}{\\partial T_j}\n",
    "     = \\frac{1}{2 \\ell_i} \\left[ \\ell_j^2 - (x_{j+1} - x_j)^2 - (y_{j+1} - y_j)^2 \\right]\n",
    "\\end{align*}\n",
    "\n",
    "<p>Let $\\theta_j$ be the angle string $j$ makes with horizontal. The equations for $F_i$ and $G_i$ can be rewritten.</p>\n",
    "\n",
    "\\begin{align*}\n",
    "F_i &= f_i + T_i \\cos(\\theta_i) - T_{i-1} \\cos(\\theta_{i-1}) \\\\   \n",
    "G_i &= g_i + T_i \\sin(\\theta_i) - T_{i-1} \\sin(\\theta_{i-1})\n",
    "\\end{align*}\n",
    "\n",
    "<p>We see that $(F_i, G_i)$ can be interpreted as the net force on mass $i$ and that the Lagrange multiplier $T_j$ can be interpreted as the tension in string $j$.</p>\n",
    "\n",
    "<p>The chain is at rest when the gradient of $U$ is zero or, alternatively, when all of the net forces are equal to zero. We have the same number of equations as unknowns. The equations, however, are nonlinear and solving for the unknowns is not easy.</p>"
   ]
  },
  {
   "cell_type": "markdown",
   "metadata": {},
   "source": [
    "<h3>Optimization</h3>\n",
    "\n",
    "<p>To find the shape of the chain and tension, we will use an optimization algorith to minimumize $U$ with respect to the unknown variables $(x_i, y_i$) and $T_j$. The algorithm requires an initial guess for the unknown variables.</p>\n",
    "\n",
    "<p>The algorith is helped when given the gradient of $U$ or, alternatively, the negative forces. If $U$ is not at a minimum, force $(F_i, G_i)$ indicates how mass $i$ will move and, hence, how $(x_i, y_i)$ should change. Similarly, \"force\" $H_j$ indicates how $T_j$ should change. If string $j$ is too long, for example, $H_j$ is negative and $T_i$ should decreased. This is counter intuative though consistent with the goal of decreasing $U$.</p>"
   ]
  },
  {
   "cell_type": "code",
   "execution_count": 47,
   "metadata": {
    "collapsed": false
   },
   "outputs": [],
   "source": [
    "def get_funcs_UFGH(f, g, l, x0, y0, xN1, yN1):\n",
    "    \n",
    "    def func_U(x, y, T):\n",
    "        X = np.concatenate([[x0], x, [xN1]])\n",
    "        Y = np.concatenate([[y0], y, [yN1]])\n",
    "        S1 = sum(f*x + g*y)\n",
    "        S2 = sum(T/2/l*((X[1:] - X[:-1])**2 + (Y[1:] - Y[:-1])**2 - l**2))\n",
    "        return -S1 + S2\n",
    "\n",
    "    def func_F(x, y, T):\n",
    "        X = np.concatenate([[x0], x, [xN1]])\n",
    "        F1 = T[1:] /l[1:] *(X[2:]   - X[1:-1])\n",
    "        F0 = T[:-1]/l[:-1]*(X[1:-1] - X[:-2] )\n",
    "        return f + F1 - F0\n",
    "\n",
    "    def func_G(x, y, T):\n",
    "        Y = np.concatenate([[y0], y, [yN1]])\n",
    "        G1 = T[1:] /l[1:] *(Y[2:]   - Y[1:-1])\n",
    "        G0 = T[:-1]/l[:-1]*(Y[1:-1] - Y[:-2] )\n",
    "        return g + G1 - G0\n",
    "\n",
    "    def func_H(x, y, T):\n",
    "        X = np.concatenate([[x0], x, [xN1]])\n",
    "        Y = np.concatenate([[y0], y, [yN1]])\n",
    "        return 1/2/l*(l**2 - (X[1:] - X[:-1])**2 - (Y[1:] - Y[:-1])**2)\n",
    "\n",
    "    return [func_U, func_F, func_G, func_H]"
   ]
  },
  {
   "cell_type": "code",
   "execution_count": 112,
   "metadata": {
    "collapsed": false
   },
   "outputs": [],
   "source": [
    "def minimumize_U_FGH_xyT(func_U, func_F, func_G, func_H, x_init, y_init, T_init, N):\n",
    "\n",
    "    # define a potential energy that is a function of a single vector\n",
    "    def func_U_xyT(xyT):\n",
    "        [x, y, T] = np.split(xyT, [N, 2*N])\n",
    "        U = func_U(x, y, T)\n",
    "        return U\n",
    "    \n",
    "    # define a gradient that is a function of a single vector\n",
    "    # and returns a single vector\n",
    "    def func_U_der_xyT(xyT):\n",
    "        [x, y, T] = np.split(xyT, [N, 2*N])\n",
    "        F = func_F(x, y, T)\n",
    "        G = func_G(x, y, T)\n",
    "        H = func_H(x, y, T)\n",
    "        U_der_xyT = np.concatenate([-F, -G, -H])        \n",
    "        return U_der_xyT\n",
    "\n",
    "    # define initial values as a single vector\n",
    "    xyT_init = np.concatenate([x_init, y_init, T_init])\n",
    "\n",
    "    # this is where the work is done\n",
    "    res = minimize(func_U_xyT, xyT_init, method='BFGS', jac=func_U_der_xyT, options={'disp': True})\n",
    "\n",
    "    # return three vectors\n",
    "    xyT = res.x\n",
    "    [x, y, T] = np.split(xyT, [N, 2*N])\n",
    "    \n",
    "    return [x, y, T]"
   ]
  },
  {
   "cell_type": "markdown",
   "metadata": {},
   "source": [
    "<h3>Gradient check</h3>\n",
    "\n",
    "<p>Before continuing, we check that results from our force functions are consistent with discrete estimates. Angrew Ng says that difficulties here are the number one source of error in machine learnign. We choose $\\Delta x \\ll x_{i+1} - x_i $, $\\Delta y \\ll y_{i+1} - y_i $, and $\\Delta T \\ll T_{i+1} - T_i $ for any $i$.</p>\n",
    "\n",
    "$$ (F_{\\mathrm{approx}})_i = - \\frac{U(x_i + \\Delta x) - U(x_i)}{\\Delta x}, \\quad\n",
    "   (G_{\\mathrm{approx}})_i = - \\frac{U(y_i + \\Delta y) - U(y_i)}{\\Delta y}, \\quad\n",
    "   (H_{\\mathrm{approx}})_i = - \\frac{U(T_i + \\Delta T) - U(T_i)}{\\Delta T} $$\n",
    "   \n",
    "<p>A simple calculation shows that $(H_{\\mathrm{approx}})_i$ is exactly equal to $H_i$.</p>"
   ]
  },
  {
   "cell_type": "code",
   "execution_count": 113,
   "metadata": {
    "collapsed": true
   },
   "outputs": [],
   "source": [
    "def func_F_approx(x, y, T, func_U, Dx):\n",
    "    xx = np.array([x for i in x])\n",
    "    xD = xx + Dx*np.identity(len(x))\n",
    "    UU = np.array([func_U(xi, y, T) for xi in xx])\n",
    "    UD = np.array([func_U(xi, y, T) for xi in xD])\n",
    "    return -(UD - UU)/Dx\n",
    "\n",
    "def func_G_approx(x, y, T, func_U, Dy):\n",
    "    yy = np.array([y for i in y])\n",
    "    yD = yy + Dy*np.identity(len(y))\n",
    "    UU = np.array([func_U(x, yi, T) for yi in yy])\n",
    "    UD = np.array([func_U(x, yi, T) for yi in yD])\n",
    "    return -(UD - UU)/Dy\n",
    "\n",
    "def func_H_approx(x, y, T, func_U, DT):\n",
    "    TT = np.array([T for j in T])\n",
    "    TD = TT + DT*np.identity(len(T))\n",
    "    UU = np.array([func_U(x, y, Ti) for Ti in TT])\n",
    "    UD = np.array([func_U(x, y, Ti) for Ti in TD])\n",
    "    return -(UD - UU)/DT"
   ]
  },
  {
   "cell_type": "code",
   "execution_count": 119,
   "metadata": {
    "collapsed": false
   },
   "outputs": [
    {
     "data": {
      "image/png": "[encoded data removed]",
      "text/plain": [
       "<matplotlib.figure.Figure at 0x7fcb0d057f28>"
      ]
     },
     "metadata": {},
     "output_type": "display_data"
    }
   ],
   "source": [
    "def check_U_der(get_funcs_UFGH, func_F_approx, func_G_approx, func_H_approx):\n",
    "\n",
    "# Prepare to generate random, smooth data\n",
    "    N = 100\n",
    "    L = 10\n",
    "    P = 6\n",
    "    \n",
    "    # Get data for a P - 1 order polynomial fit to P points\n",
    "    def get_rand_curve(N, L, P): \n",
    "        x = np.linspace(0, L, N + 2)\n",
    "        px = np.linspace(0, L, P)\n",
    "        py = np.random.rand(P)\n",
    "        y = np.poly1d(np.polyfit(px, py, P - 1))(x)\n",
    "        return y\n",
    "\n",
    "    # Helper variables to make sure guesses matches the end points\n",
    "    X = get_rand_curve(N, L, P)\n",
    "    Y = get_rand_curve(N, L, P)\n",
    "\n",
    "# Calculate given varibles\n",
    "    f = get_rand_curve(N, L, P)[1:-1]\n",
    "    g = get_rand_curve(N, L, P)[1:-1]\n",
    "    # Length must be greater than zero\n",
    "    l = get_rand_curve(N, L, P)[1:] + 1\n",
    "    (x0,  y0 ) = (X[ 0], Y[ 0])\n",
    "    (xN1, yN1) = (X[-1], Y[-1])\n",
    "\n",
    "    [func_U, func_F, func_G, func_H] = get_funcs_UFGH(f, g, l, x0, y0, xN1, yN1)\n",
    "\n",
    "# Guess unknowns\n",
    "    x = X[1:-1]\n",
    "    y = Y[1:-1]\n",
    "    T = get_rand_curve(N, L, P)[1:]\n",
    "    \n",
    "\n",
    "# Calculate forces\n",
    "    F = func_F(x, y, T)\n",
    "    G = func_G(x, y, T)\n",
    "    H = func_H(x, y, T)\n",
    "\n",
    "    # Scale is set much too large so we can see differences\n",
    "    scale = 1\n",
    "    Dx = scale*max(x[1:] - x[:-1])\n",
    "    Dy = scale*max(y[1:] - y[:-1])\n",
    "    DT = scale*max(T[1:] - T[:-1])\n",
    "\n",
    "    F_approx = func_F_approx(x, y, T, func_U, Dx)\n",
    "    G_approx = func_G_approx(x, y, T, func_U, Dy)\n",
    "    H_approx = func_H_approx(x, y, T, func_U, DT)\n",
    "\n",
    "# Plot\n",
    "    plt.plot(F, 'r-', label = 'F')\n",
    "    plt.plot(G, 'b-', label = 'G')\n",
    "    plt.plot(H, 'g-', label = 'H')\n",
    "    plt.plot(F_approx, 'r--')\n",
    "    plt.plot(G_approx, 'b--')\n",
    "    plt.plot(H_approx, 'g--')\n",
    "    plt.legend()\n",
    "    plt.show()\n",
    "    \n",
    "check_U_der(get_funcs_UFGH, func_F_approx, func_G_approx, func_H_approx)"
   ]
  },
  {
   "cell_type": "markdown",
   "metadata": {},
   "source": [
    "<h3>Initial values</h3>\n",
    "\n",
    "<p>The optimization algorithm requires initial guesses for the unknown variables $(x_i, y_i$) and $T_j$. A sensible guess for the positon variables $(x_i, y_i$) is a straight line connecting the end positions $(x_0, y_0)$ and $(x_{N+1}, y_{N+1})$. We guess that the tension variables $T_j$ are all equal to the same value, which is the average of the net tension on each mass.</p>\n",
    "\n",
    "$$ T_j = \\frac{1}{N} \\sum_{i = 1}^N \\sqrt{f_i^2 + g_i^2} $$\n",
    "\n",
    "<p>There are problems with these guesses. Note, however, that many optimization algorithms start with random guesses and work fine.</p>"
   ]
  },
  {
   "cell_type": "code",
   "execution_count": 115,
   "metadata": {
    "collapsed": true
   },
   "outputs": [],
   "source": [
    "def get_x_init(x0, xN1, N):\n",
    "    return np.linspace(x0, xN1, N + 2)[1:-1]\n",
    "\n",
    "def get_y_init(y0, yN1, N):\n",
    "    return np.linspace(y0, yN1, N + 2)[1:-1]\n",
    "\n",
    "def get_T_init(f, g, N):\n",
    "    return np.repeat(np.average(np.sqrt(f**2 + g**2)), N + 1)"
   ]
  },
  {
   "cell_type": "markdown",
   "metadata": {},
   "source": [
    "<h3>Catenary</h3>\n",
    "\n",
    "<p>To test our approach, we consider a problem that can be solved analytically. A catenary is a curve that idealizes a hanging chain. All mass values and string lengths are equal. The only external force is gravity. With this information, we rewrite the force equations.</p>\n",
    "\n",
    "\\begin{align*}\n",
    "\\frac{T_i}{\\ell}\\left(\\frac{x_{i+1} - x_i}{\\ell}\\right) - \\frac{T_{i-1}}{\\ell}\\left(\\frac{x_i - x_{i-1}}{\\ell}\\right) &= 0 \\\\ \n",
    "\\frac{T_i}{\\ell}\\left(\\frac{y_{i+1} - y_i}{\\ell}\\right) - \\frac{T_{i-1}}{\\ell}\\left(\\frac{y_i - y_{i-1}}{\\ell}\\right) &= \\frac{m g}{\\ell}\n",
    "\\end{align*}\n",
    "$$ \\left(\\frac{x_{j+1} - x_j}{\\ell} \\right)^2 + \\left(\\frac{y_{j+1} - y_j}{\\ell} \\right)^2 = 1 $$\n",
    "\n",
    "<p>The catenary has mass $M = N m$ and length $L = (N + 1) \\ell$. For large $N$, the discrete force equations become differential equations.</p>\n",
    "\n",
    "$$ \\frac{d}{ds} \\left( T \\frac{d x}{d s} \\right) = 0, \\quad\n",
    "   \\frac{d}{ds} \\left( T \\frac{d y}{d s} \\right) = \\frac{M g}{L}, \\quad\n",
    "   \\left(\\frac{d x}{d s}\\right)^2 + \\left(\\frac{d y}{d s}\\right)^2 = 1 $$\n",
    "   \n",
    "<p>The following functions are solutions. (See Appendix C.)</p>\n",
    "\n",
    "\n",
    "$$ x(s) = R \\sinh^{-1} \\left( \\frac{s}{R} \\right), \\quad\n",
    "   y(s) = R \\sqrt{1 + \\left(\\frac{s}{R} \\right)^2}, \\quad\n",
    "   T(s) = \\frac{M g R}{L} \\sqrt{1 + \\left(\\frac{s}{R} \\right)^2} $$"
   ]
  },
  {
   "cell_type": "code",
   "execution_count": 116,
   "metadata": {
    "collapsed": false
   },
   "outputs": [],
   "source": [
    "def get_funcs_xyT_catenary(M, L, R):\n",
    "\n",
    "    def func_x_catenary(s):\n",
    "        return R*np.arcsinh(s/R)\n",
    "    \n",
    "    def func_y_catenary(s):\n",
    "        return R*np.sqrt(1 + (s/R)**2)\n",
    "    \n",
    "    def func_T_catenary(s):\n",
    "        return M*gravity*R/L*np.sqrt(1 + (s/R)**2)\n",
    "\n",
    "    return [func_x_catenary, func_y_catenary, func_T_catenary]"
   ]
  },
  {
   "cell_type": "markdown",
   "metadata": {},
   "source": [
    "<h3>Test</h3>\n",
    "\n",
    "<p>To test our approach, consider a catenary with mass $M$, length $L$, and radius of curvature $R$. We assume the catenary is made of $N$ masses. With this information, we can find given values.</p>\n",
    "\n",
    "$$ (f_i, g_j) = \\left(0, - \\frac{M}{N} g\\right), \\quad\n",
    "   \\ell_j = \\frac{L}{N + 1}, \\quad\n",
    "   (x_0, y_0) = \\left(x\\left(-\\frac{L}{2}\\right), y\\left(-\\frac{L}{2}\\right)\\right), \\quad\n",
    "   (x_{N1}, y_{N1}) = \\left(x\\left(\\frac{L}{2}\\right), y\\left(\\frac{L}{2}\\right)\\right) $$"
   ]
  },
  {
   "cell_type": "code",
   "execution_count": 117,
   "metadata": {
    "collapsed": false
   },
   "outputs": [
    {
     "name": "stdout",
     "output_type": "stream",
     "text": [
      "Warning: Desired error not necessarily achieved due to precision loss.\n",
      "         Current function value: -19800927289.131931\n",
      "         Iterations: 5\n",
      "         Function evaluations: 129\n",
      "         Gradient evaluations: 117\n"
     ]
    },
    {
     "data": {
      "image/png": "[encoded data removed]",
      "text/plain": [
       "<matplotlib.figure.Figure at 0x7fcb0c080780>"
      ]
     },
     "metadata": {},
     "output_type": "display_data"
    },
    {
     "data": {
      "image/png": "[encoded data removed]",
      "text/plain": [
       "<matplotlib.figure.Figure at 0x7fcb0d086fd0>"
      ]
     },
     "metadata": {},
     "output_type": "display_data"
    }
   ],
   "source": [
    "M = 10\n",
    "L = 4\n",
    "R = 0.25\n",
    "N = 40\n",
    "\n",
    "# Introduce catenary theory functions\n",
    "[func_x_catenary, func_y_catenary, func_T_catenary] = get_funcs_xyT_catenary(M, L, R)\n",
    "\n",
    "# Get data to plot\n",
    "s = np.linspace(-L/2, L/2, 100*N)\n",
    "x_catenary = func_x_catenary(s)\n",
    "y_catenary = func_y_catenary(s)\n",
    "T_catenary = func_T_catenary(s)\n",
    "\n",
    "# Calculate givens\n",
    "f = np.repeat(0, N)\n",
    "g = np.repeat(-gravity*M/N, N)\n",
    "l = np.repeat(L/(N + 1), N + 1)\n",
    "[x0,  y0 ] = [func_x_catenary(-L/2), func_y_catenary(-L/2)]\n",
    "[xN1, yN1] = [func_x_catenary( L/2), func_y_catenary( L/2)]\n",
    "\n",
    "# Introduce functions and initial values\n",
    "[func_U, func_F, func_G, func_H] = get_funcs_UFGH(f, g, l, x0, y0, xN1, yN1)\n",
    "\n",
    "x_init = get_x_init(x0, xN1, N)\n",
    "y_init = get_y_init(y0, yN1, N)\n",
    "T_init = get_T_init(f, g, N)\n",
    "\n",
    "# Optimize\n",
    "[x, y, T] = minimumize_U_FGH_xyT(func_U, func_F, func_G, func_H, x_init, y_init, T_init, N)\n",
    "\n",
    "# Plot\n",
    "\n",
    "X = np.concatenate([[x0], x, [xN1]])\n",
    "Y = np.concatenate([[y0], y, [yN1]])\n",
    "\n",
    "plt.plot(x_catenary, y_catenary, 'k-')\n",
    "plt.plot(X, Y, 'b-')\n",
    "plt.plot(x, y, 'ro')\n",
    "plt.plot(x_catenary, y_catenary, 'k-')\n",
    "plt.show()\n",
    "\n",
    "plt.plot(T, 'k-')\n",
    "plt.show()"
   ]
  },
  {
   "cell_type": "code",
   "execution_count": 99,
   "metadata": {
    "collapsed": false
   },
   "outputs": [
    {
     "data": {
      "text/plain": [
       "array([ 2.45,  2.45,  2.45,  2.45,  2.45,  2.45,  2.45,  2.45,  2.45,\n",
       "        2.45,  2.45,  2.45,  2.45,  2.45,  2.45,  2.45,  2.45,  2.45,\n",
       "        2.45,  2.45,  2.45,  2.45,  2.45,  2.45,  2.45,  2.45,  2.45,\n",
       "        2.45,  2.45,  2.45,  2.45,  2.45,  2.45,  2.45,  2.45,  2.45,\n",
       "        2.45,  2.45,  2.45,  2.45,  2.45])"
      ]
     },
     "execution_count": 99,
     "metadata": {},
     "output_type": "execute_result"
    }
   ],
   "source": [
    "T_init"
   ]
  },
  {
   "cell_type": "markdown",
   "metadata": {
    "collapsed": true
   },
   "source": [
    "<h3>Chain in the wind</h3>"
   ]
  },
  {
   "cell_type": "markdown",
   "metadata": {},
   "source": [
    "<h3>Chain with balloon</h3>"
   ]
  },
  {
   "cell_type": "markdown",
   "metadata": {
    "collapsed": true
   },
   "source": [
    "<h3>Appendix A</h3>\n",
    "\n",
    "<p>Remember.</p>\n",
    "\n",
    "$$ U = - \\sum_{i=1}^N(f_i x_i + g_i y_i) \n",
    "  + \\sum_{j=0}^N \\frac{T_j}{2 \\ell_j} \\left[(x_{j+1} - x_j)^2 + (y_{j+1} - y_j)^2 - \\ell_j^2 \\right] $$\n",
    "\n",
    "<p>Let $a$ range from $1$ to $N$.</p>\n",
    "\n",
    "\\begin{align*}\n",
    "F_a = - \\frac{\\partial U}{\\partial x_a} &=\n",
    "  \\sum_{i=1}^N f_i \\delta_{i, a} \n",
    " -\\sum_{j=0}^N \\frac{T_j}{\\ell_j}(x_{j+1} - x_j)(\\delta_{j+1, a} - \\delta_{j, a}) \\\\\n",
    "F_a = - \\frac{\\partial U}{\\partial x_a} &=\n",
    "  f_a - \\frac{T_{a-1}}{\\ell_{a-1}}(x_a - x_{a-1}) + \\frac{T_a}{\\ell_a}(x_{a+1} - x_a)\n",
    "\\end{align*}\n",
    "   \n",
    "<p>Replacing $a$ with $i$, we obtain the equation for $F_i$. The equation for $G_i$ is found in the same way.</p>\n"
   ]
  },
  {
   "cell_type": "markdown",
   "metadata": {},
   "source": [
    "<h3>Appendix B</h3>\n",
    "\n",
    "<p>Change notation.</p>\n",
    "\n",
    "$$ x_i \\rightarrow x(\\ell i) = x(s) $$\n",
    "\n",
    "<p>For large $N$, $\\ell$ is small.</p>\n",
    "\n",
    "$$ x_{i+1} \\rightarrow x(s + \\ell) \\approx x(s) + \\frac{d x}{d s} \\ell + \\frac{1}{2} \\frac{d^2 x}{d s^2} \\ell^2,\n",
    "\\quad\n",
    "\\frac{m}{\\ell} = \\frac{M (N + 1)}{L N} \\approx \\frac{M}{L} $$\n",
    "\n",
    "<p>Consider, for example, the second force equation.</p>\n",
    "\n",
    "$$ \\frac{T_i}{\\ell}\\left(\\frac{y_{i+1} - y_i}{\\ell}\\right) - \\frac{T_{i-1}}{\\ell}\\left(\\frac{y_i - y_{i-1}}{\\ell}\\right) = \\frac{m g}{\\ell} $$\n",
    "\n",
    "<p>Assume $N$ is large.</p>\n",
    "\n",
    "$$ \\frac{T}{\\ell}\\left( \\frac{d y}{d s} + \\frac{1}{2} \\frac{d^2 y}{d s^2} \\ell \\right)\n",
    " - \\left( \\frac{T}{\\ell} - \\frac{d T}{d s} + \\frac{1}{2} \\frac{d T}{d s} \\ell \\right)\n",
    " \\left( \\frac{d y}{d s} - \\frac{1}{2} \\frac{d^2 y}{d s^2} \\ell \\right) = \\frac{M g}{L} $$\n",
    "\n",
    "<p>Simplify.</p>\n",
    " \n",
    "$$ T \\frac{d^2 y}{d s^2} + \\frac{d T}{d s} \\frac{d y}{d s}\n",
    "  + \\frac{1}{2} \\frac{d T}{d s} \\frac{d y}{d s} \\ell \n",
    "  - \\frac{1}{4} \\frac{d T}{d s} \\frac{d^2 y}{d s^2} \\ell^2\n",
    "  = \\frac{M g}{L} $$\n",
    "  \n",
    "<p>Drop higher order $\\ell$ terms. The other force equations are found in a similar way.</p>\n",
    "\n"
   ]
  },
  {
   "cell_type": "markdown",
   "metadata": {},
   "source": [
    "<h3>Appendix C</h3>\n",
    "\n",
    "<p>The first equatin tells us that $T \\frac{d x}{d s} = C_1$ where the constant can be interpreted as the $x$-component of tension in the chain. If we say $C_1 = \\frac{M g R}{L}$, then $T = \\frac{M g R}{L} \\big/ \\frac{d x}{d s}$.  Substitute $T$ into the second equation and eliminate $\\frac{d x}{d s}$ or $\\frac{d x}{d s}$ using the third equation.</p>\n",
    "\n",
    "$$ \\frac{d}{ds} \\left(\\sqrt{1 - \\left(\\frac{d x}{d s}\\right)^2} \\bigg/ \\frac{d x}{d s} \\right) = \\frac{1}{R},\n",
    "   \\quad\n",
    "   \\frac{d}{ds} \\left(\\frac{d y}{d s} \\bigg/ \\sqrt{1 - \\left(\\frac{d y}{d s}\\right)^2} \\right) = \\frac{1}{R} $$\n",
    "\n",
    "<p>Integrate.</p>\n",
    "\n",
    "$$ \\sqrt{1 - \\left(\\frac{d x}{d s}\\right)^2} \\bigg/ \\frac{d x}{d s} = \\frac{s}{R} + C_2,\n",
    "   \\quad\n",
    "   \\frac{d y}{d s} \\bigg/ \\sqrt{1 - \\left(\\frac{d y}{d s}\\right)^2} = \\frac{s}{R} + C_3 $$\n",
    "\n",
    "<p>If we assume that the chain is horizontal at $s = 0$, then $C_2 = C_3 = 0$.</p>\n",
    "\n",
    "$$ \\frac{d x}{d s} = \\sqrt{\\frac{R^2}{R^2 + s^2}}, \\quad\n",
    "   \\frac{d y}{d s} = \\sqrt{\\frac{s^2}{R^2 + s^2}} $$\n",
    "\n",
    "<p>Integrate.</p>\n",
    "\n",
    "$$ x(s) = R \\sinh^{-1} \\left( \\frac{s}{R} \\right) + C_4, \\quad\n",
    "   y(s) = R \\sqrt{1 + \\left(\\frac{s}{R} \\right)^2} + C_5 $$\n",
    "   \n",
    "<p>Constants $C_4$ and $C_5$ result in a translation. We set them to zero.</p>\n",
    "\n",
    "$$ T(s) = \\frac{M g R}{L} \\sqrt{1 + \\left(\\frac{s}{R} \\right)^2} $$"
   ]
  }
 ],
 "metadata": {
  "kernelspec": {
   "display_name": "Python 3",
   "language": "python",
   "name": "python3"
  },
  "language_info": {
   "codemirror_mode": {
    "name": "ipython",
    "version": 3
   },
   "file_extension": ".py",
   "mimetype": "text/x-python",
   "name": "python",
   "nbconvert_exporter": "python",
   "pygments_lexer": "ipython3",
   "version": "3.6.0"
  }
 },
 "nbformat": 4,
 "nbformat_minor": 2
}
